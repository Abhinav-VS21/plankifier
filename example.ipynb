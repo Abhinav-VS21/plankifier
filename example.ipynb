{
 "cells": [
  {
   "cell_type": "code",
   "execution_count": 1,
   "metadata": {},
   "outputs": [
    {
     "name": "stderr",
     "output_type": "stream",
     "text": [
      "Using TensorFlow backend.\n",
      "/mnt/volume2Tb/Dropbox/PROJECTS/MACHINE-LEARNING/AQUASCOPE/plankifier/src/helper_models.py:235: SyntaxWarning: assertion is always true, perhaps remove parentheses?\n",
      "  assert(self.modelkind!='feat', self.modelkind!='mixed', \"We only augment with image data\")\n",
      "/mnt/volume2Tb/Dropbox/PROJECTS/MACHINE-LEARNING/AQUASCOPE/plankifier/src/helper_models.py:530: SyntaxWarning: assertion is always true, perhaps remove parentheses?\n",
      "  assert(len(input_shape[0]) == 3, \"MixedModel: first dimension should be images, but has shape {}\".format(input_shape[0]))\n",
      "/mnt/volume2Tb/Dropbox/PROJECTS/MACHINE-LEARNING/AQUASCOPE/plankifier/src/helper_models.py:531: SyntaxWarning: assertion is always true, perhaps remove parentheses?\n",
      "  assert(len(input_shape[1]) == 1, \"MixedModel: second dimension should be features, but has shape {}\".format(input_shape[1]))\n"
     ]
    }
   ],
   "source": [
    "import numpy as np, pandas as pd\n",
    "import train as t\n",
    "from src import helper_models as hm, helper_data as hd, helper_tts as htts\n",
    "from importlib import reload\n",
    "import keras, glob\n",
    "\n",
    "\n"
   ]
  },
  {
   "cell_type": "code",
   "execution_count": 2,
   "metadata": {},
   "outputs": [
    {
     "data": {
      "text/plain": [
       "<module 'src.helper_tts' from '/mnt/volume2Tb/Dropbox/PROJECTS/MACHINE-LEARNING/AQUASCOPE/plankifier/src/helper_tts.py'>"
      ]
     },
     "execution_count": 2,
     "metadata": {},
     "output_type": "execute_result"
    }
   ],
   "source": [
    "# Reload imports of custom modules, in case I am modifying and reloading them live\n",
    "reload(t)\n",
    "reload(hd)\n",
    "reload(hm)\n",
    "reload(htts)\n"
   ]
  },
  {
   "cell_type": "markdown",
   "metadata": {},
   "source": [
    "# Initialize simulation"
   ]
  },
  {
   "cell_type": "code",
   "execution_count": 3,
   "metadata": {},
   "outputs": [
    {
     "name": "stdout",
     "output_type": "stream",
     "text": [
      "No model was specified by the user, so we analyze images with conv2\n",
      "kind: image\n"
     ]
    }
   ],
   "source": [
    "sim=t.Ctrain()"
   ]
  },
  {
   "cell_type": "markdown",
   "metadata": {},
   "source": [
    "# Init parameters\n",
    "Parameters must always be updated through the `UpdateParams()` method"
   ]
  },
  {
   "cell_type": "code",
   "execution_count": 4,
   "metadata": {},
   "outputs": [],
   "source": [
    "def SetModelParams(kind):\n",
    "    ''' \n",
    "    A quick way to set compatible user parameters of data and model kinds\n",
    "    \n",
    "    Input: kind = either 'image', 'feat' or 'mixed'\n",
    "    Output: model_image, model_feat, datakind, ttkind, aug\n",
    "    '''\n",
    "    \n",
    "    if kind == 'image':\n",
    "        return ('conv2', None, 'image', 'image', True)\n",
    "    \n",
    "    elif kind == 'feat':\n",
    "        return (None, 'mlp', 'feat', 'feat', False)\n",
    "    \n",
    "    elif kind == 'mixed':\n",
    "        return ('conv2', 'mlp', 'mixed', 'mixed', False)\n",
    "        "
   ]
  },
  {
   "cell_type": "code",
   "execution_count": 5,
   "metadata": {},
   "outputs": [],
   "source": [
    "model_image, model_feat, datakind, ttkind, aug = SetModelParams('image')\n",
    "\n",
    "sim.UpdateParams(\n",
    "    datapaths=['./data/1_zooplankton_0p5x/training/zooplankton_trainingset_2020.04.28/',\n",
    "               './data/1_zooplankton_0p5x/training/zooplankton_trainingset_2020.07.06/'],\n",
    "    outpath     = 'out_example', \n",
    "    L           = 128, \n",
    "    aug         = aug, \n",
    "    model_feat  = model_feat,\n",
    "    model_image = model_image,\n",
    "    datakind    = datakind, \n",
    "    ttkind      = ttkind,\n",
    "    class_select= ['chaoborus','bosmina','unknown_plankton'] #None\n",
    "    )\n"
   ]
  },
  {
   "cell_type": "markdown",
   "metadata": {},
   "source": [
    "Create output directory only after you've set the right `outpath`"
   ]
  },
  {
   "cell_type": "code",
   "execution_count": 6,
   "metadata": {},
   "outputs": [],
   "source": [
    "sim.CreateOutDir()\n"
   ]
  },
  {
   "cell_type": "code",
   "execution_count": 7,
   "metadata": {},
   "outputs": [
    {
     "name": "stdout",
     "output_type": "stream",
     "text": [
      "['./data/1_zooplankton_0p5x/training/zooplankton_trainingset_2020.04.28/', './data/1_zooplankton_0p5x/training/zooplankton_trainingset_2020.07.06/']\n"
     ]
    }
   ],
   "source": [
    "print(sim.params.datapaths)\n"
   ]
  },
  {
   "cell_type": "markdown",
   "metadata": {},
   "source": [
    "# Load data"
   ]
  },
  {
   "cell_type": "code",
   "execution_count": 8,
   "metadata": {},
   "outputs": [
    {
     "name": "stdout",
     "output_type": "stream",
     "text": [
      "datapaths: ['./data/1_zooplankton_0p5x/training/zooplankton_trainingset_2020.04.28/', './data/1_zooplankton_0p5x/training/zooplankton_trainingset_2020.07.06/']\n",
      "classes from datapaths: ['diaphanosoma', 'synchaeta', 'keratella_cochlearis', 'paradileptus', 'rotifers', 'nauplius', 'asplanchna', 'hydra', 'daphnia_skins', 'dirt', 'leptodora', 'unknown_plankton', 'trichocerca', 'polyarthra', 'diatom_chain', 'maybe_cyano', 'copepod_skins', 'bosmina', 'fish', 'cyclops', 'asterionella', 'chaoborus', 'daphnia', 'eudiaptomus', 'uroglena', 'keratella_quadrata', 'fragilaria', 'ceratium', 'dinobryon', 'filament', 'kellikottia', 'unknown', 'aphanizomenon', 'conochilus']\n",
      "class: chaoborus (10)\n",
      "class: bosmina (81)\n",
      "class: unknown_plankton (71)\n"
     ]
    }
   ],
   "source": [
    "# These arguments are the defaults\n",
    "reload(hd)\n",
    "sim.LoadData(L=sim.params.L, class_select=sim.params.class_select, datakind=sim.params.datakind) \n"
   ]
  },
  {
   "cell_type": "markdown",
   "metadata": {},
   "source": [
    "# Create sets (test and train)"
   ]
  },
  {
   "cell_type": "code",
   "execution_count": 9,
   "metadata": {},
   "outputs": [],
   "source": [
    "sim.UpdateParams(testSplit=0.25)\n",
    "sim.CreateTrainTestSets(ttkind=sim.params.ttkind)\n"
   ]
  },
  {
   "cell_type": "markdown",
   "metadata": {},
   "source": [
    "# Create and Train Model\n",
    "Custom parameter changes are made by acting directly on the params class through the `UpdateParams()` method."
   ]
  },
  {
   "cell_type": "code",
   "execution_count": 10,
   "metadata": {},
   "outputs": [
    {
     "name": "stdout",
     "output_type": "stream",
     "text": [
      "modelkind: image\n",
      "WARNING:tensorflow:From /opt/miniconda3/lib/python3.7/site-packages/tensorflow_core/python/ops/resource_variable_ops.py:1630: calling BaseResourceVariable.__init__ (from tensorflow.python.ops.resource_variable_ops) with constraint is deprecated and will be removed in a future version.\n",
      "Instructions for updating:\n",
      "If using Keras pass *_constraint arguments to layers.\n",
      "WARNING:tensorflow:From /opt/miniconda3/lib/python3.7/site-packages/keras/backend/tensorflow_backend.py:4070: The name tf.nn.max_pool is deprecated. Please use tf.nn.max_pool2d instead.\n",
      "\n",
      "WARNING: At the current state, we are taking the default weight initialization, whatever it is. This must change in order to have better control.\n",
      "WARNING:tensorflow:From /opt/miniconda3/lib/python3.7/site-packages/keras/backend/tensorflow_backend.py:422: The name tf.global_variables is deprecated. Please use tf.compat.v1.global_variables instead.\n",
      "\n",
      "Epoch 1/10\n",
      "3/3 [==============================] - 3s 892ms/step - loss: 0.9672 - accuracy: 0.4896 - val_loss: 1.0639 - val_accuracy: 0.5854\n",
      "Epoch 2/10\n",
      "3/3 [==============================] - 2s 549ms/step - loss: 0.9239 - accuracy: 0.4878 - val_loss: 1.0604 - val_accuracy: 0.4390\n",
      "Epoch 3/10\n",
      "3/3 [==============================] - 0s 107ms/step - loss: 0.8961 - accuracy: 0.5506 - val_loss: 1.0550 - val_accuracy: 0.5366\n",
      "Epoch 4/10\n",
      "3/3 [==============================] - 0s 85ms/step - loss: 0.8464 - accuracy: 0.5521 - val_loss: 1.0532 - val_accuracy: 0.4390\n",
      "Epoch 5/10\n",
      "3/3 [==============================] - 0s 88ms/step - loss: 0.8769 - accuracy: 0.4944 - val_loss: 1.0512 - val_accuracy: 0.4146\n",
      "Epoch 6/10\n",
      "3/3 [==============================] - 0s 101ms/step - loss: 0.6687 - accuracy: 0.6742 - val_loss: 1.0441 - val_accuracy: 0.6098\n",
      "Epoch 7/10\n",
      "3/3 [==============================] - 0s 104ms/step - loss: 0.7599 - accuracy: 0.6667 - val_loss: 1.0437 - val_accuracy: 0.5122\n",
      "Epoch 8/10\n",
      "3/3 [==============================] - 0s 85ms/step - loss: 0.7655 - accuracy: 0.6742 - val_loss: 1.0386 - val_accuracy: 0.6341\n",
      "Epoch 9/10\n",
      "3/3 [==============================] - 0s 84ms/step - loss: 0.7437 - accuracy: 0.6742 - val_loss: 1.0377 - val_accuracy: 0.6098\n",
      "Epoch 10/10\n",
      "3/3 [==============================] - 0s 93ms/step - loss: 0.8068 - accuracy: 0.5955 - val_loss: 1.0353 - val_accuracy: 0.6341\n",
      "Training took 0.12693204879760742 minutes\n",
      "Saving the last model. These are not the best weights, they are the last ones. For the best weights use the callback output (bestweights.hdf5)]\n"
     ]
    }
   ],
   "source": [
    "sim.UpdateParams(totEpochs=10)\n",
    "sim.Train()"
   ]
  },
  {
   "cell_type": "markdown",
   "metadata": {},
   "source": [
    "# Classification Report"
   ]
  },
  {
   "cell_type": "code",
   "execution_count": 11,
   "metadata": {},
   "outputs": [
    {
     "name": "stdout",
     "output_type": "stream",
     "text": [
      "                  precision    recall  f1-score   support\n",
      "\n",
      "         bosmina       0.77      0.68      0.72        25\n",
      "       chaoborus       0.00      0.00      0.00         2\n",
      "unknown_plankton       0.47      0.64      0.55        14\n",
      "\n",
      "        accuracy                           0.63        41\n",
      "       macro avg       0.42      0.44      0.42        41\n",
      "    weighted avg       0.63      0.63      0.63        41\n",
      "\n"
     ]
    },
    {
     "name": "stderr",
     "output_type": "stream",
     "text": [
      "/opt/miniconda3/lib/python3.7/site-packages/sklearn/metrics/_classification.py:1268: UndefinedMetricWarning: Precision and F-score are ill-defined and being set to 0.0 in labels with no predicted samples. Use `zero_division` parameter to control this behavior.\n",
      "  _warn_prf(average, modifier, msg_start, len(result))\n"
     ]
    }
   ],
   "source": [
    "sim.Report()"
   ]
  },
  {
   "cell_type": "markdown",
   "metadata": {},
   "source": [
    "We now extract manually the training loss corresponding to the best weights, so that we can make sure that restarting the simulation works"
   ]
  },
  {
   "cell_type": "code",
   "execution_count": 12,
   "metadata": {},
   "outputs": [
    {
     "name": "stdout",
     "output_type": "stream",
     "text": [
      "Initial training loss: 0.9672347903251648\n",
      "Best    training loss: 0.805130074533184\n"
     ]
    }
   ],
   "source": [
    "def BestLoss(history):\n",
    "    ''' Returns the training loss of the point where the validation loss was minimal'''\n",
    "    return history['loss'][np.argmin(history['val_loss'])]\n",
    "def InitLoss(history):\n",
    "    ''' Returns the training loss of the point where the validation loss was minimal'''\n",
    "    return history['loss'][0]\n",
    "\n",
    "# initLoss = InitLoss(sim.history.history)\n",
    "# bestLoss = BestLoss(sim.history.history)\n",
    "\n",
    "print('Initial training loss:',InitLoss(sim.history.history))\n",
    "print('Best    training loss:',BestLoss(sim.history.history))\n"
   ]
  },
  {
   "cell_type": "markdown",
   "metadata": {},
   "source": [
    "# Start again from scratch\n",
    "If we train again, the simulation does not start again where it ended, but it starts from scratch.\n",
    "Since the default initialization is random, the initial value will be close to that of the previous run, but not the same."
   ]
  },
  {
   "cell_type": "code",
   "execution_count": 13,
   "metadata": {},
   "outputs": [
    {
     "name": "stdout",
     "output_type": "stream",
     "text": [
      "modelkind: image\n",
      "WARNING: At the current state, we are taking the default weight initialization, whatever it is. This must change in order to have better control.\n",
      "Epoch 1/10\n",
      "3/3 [==============================] - 0s 136ms/step - loss: 1.1948 - accuracy: 0.4583 - val_loss: 1.0766 - val_accuracy: 0.6341\n",
      "Epoch 2/10\n",
      "3/3 [==============================] - 0s 99ms/step - loss: 1.0267 - accuracy: 0.4494 - val_loss: 1.0716 - val_accuracy: 0.6341\n",
      "Epoch 3/10\n",
      "3/3 [==============================] - 0s 104ms/step - loss: 0.9553 - accuracy: 0.4944 - val_loss: 1.0647 - val_accuracy: 0.6098\n",
      "Epoch 4/10\n",
      "3/3 [==============================] - 0s 84ms/step - loss: 0.8497 - accuracy: 0.6742 - val_loss: 1.0585 - val_accuracy: 0.6098\n",
      "Epoch 5/10\n",
      "3/3 [==============================] - 0s 87ms/step - loss: 0.8645 - accuracy: 0.4896 - val_loss: 1.0562 - val_accuracy: 0.6098\n",
      "Epoch 6/10\n",
      "3/3 [==============================] - 0s 92ms/step - loss: 0.8792 - accuracy: 0.5976 - val_loss: 1.0496 - val_accuracy: 0.6585\n",
      "Epoch 7/10\n",
      "3/3 [==============================] - 0s 110ms/step - loss: 0.8100 - accuracy: 0.5417 - val_loss: 1.0482 - val_accuracy: 0.5854\n",
      "Epoch 8/10\n",
      "3/3 [==============================] - 0s 86ms/step - loss: 0.7026 - accuracy: 0.6629 - val_loss: 1.0417 - val_accuracy: 0.6829\n",
      "Epoch 9/10\n",
      "3/3 [==============================] - 0s 88ms/step - loss: 0.8650 - accuracy: 0.5843 - val_loss: 1.0391 - val_accuracy: 0.6585\n",
      "Epoch 10/10\n",
      "3/3 [==============================] - 0s 90ms/step - loss: 0.6609 - accuracy: 0.7640 - val_loss: 1.0374 - val_accuracy: 0.6585\n",
      "Training took 0.059907929102579756 minutes\n",
      "Saving the last model. These are not the best weights, they are the last ones. For the best weights use the callback output (bestweights.hdf5)]\n"
     ]
    }
   ],
   "source": [
    "sim.Train()"
   ]
  },
  {
   "cell_type": "code",
   "execution_count": 14,
   "metadata": {},
   "outputs": [
    {
     "name": "stdout",
     "output_type": "stream",
     "text": [
      "Initial training loss: 1.1947825749715169\n",
      "Best    training loss: 0.6574848207195153\n"
     ]
    }
   ],
   "source": [
    "print('Initial training loss:',InitLoss(sim.history.history))\n",
    "print('Best    training loss:',BestLoss(sim.history.history))\n"
   ]
  },
  {
   "cell_type": "markdown",
   "metadata": {},
   "source": [
    "# Start from a previous state\n",
    "We have two ways of not starting from scratch. We can either *(a)* define the full model and load the weight configuration, or *(b)* load the full model. We could also load the full model and then load a different weight configuration *(b+a)*.\n",
    "\n",
    "I also show how to play around with some input parameters.\n",
    "\n"
   ]
  },
  {
   "cell_type": "markdown",
   "metadata": {},
   "source": [
    "## (a) Define model and load weights from disk\n",
    "We don't update the parameters, because we keep the same ones as in the previous runs, for comparison. The only thing we need to do, before calling `sim.Train()`, is to specify the file with the weight configuration through the `load_weights` parameter.\n",
    "\n",
    "We will load the weights that minimized the test loss in the previous run.\n",
    "You will see now that the initial loss is lower value than that of the two previous runs."
   ]
  },
  {
   "cell_type": "code",
   "execution_count": 15,
   "metadata": {},
   "outputs": [
    {
     "name": "stdout",
     "output_type": "stream",
     "text": [
      "modelkind: image\n",
      "Loading weights from  out_example/bestweights.hdf5\n",
      "Epoch 1/10\n",
      "3/3 [==============================] - 0s 128ms/step - loss: 0.6639 - accuracy: 0.7191 - val_loss: 1.0327 - val_accuracy: 0.6341\n",
      "Epoch 2/10\n",
      "3/3 [==============================] - 0s 90ms/step - loss: 0.6586 - accuracy: 0.7191 - val_loss: 1.0297 - val_accuracy: 0.6829\n",
      "Epoch 3/10\n",
      "3/3 [==============================] - 0s 106ms/step - loss: 0.7776 - accuracy: 0.6875 - val_loss: 1.0259 - val_accuracy: 0.6341\n",
      "Epoch 4/10\n",
      "3/3 [==============================] - 0s 86ms/step - loss: 0.7771 - accuracy: 0.5506 - val_loss: 1.0249 - val_accuracy: 0.6341\n",
      "Epoch 5/10\n",
      "3/3 [==============================] - 0s 88ms/step - loss: 0.7337 - accuracy: 0.6292 - val_loss: 1.0232 - val_accuracy: 0.6585\n",
      "Epoch 6/10\n",
      "3/3 [==============================] - 0s 93ms/step - loss: 0.7900 - accuracy: 0.5618 - val_loss: 1.0198 - val_accuracy: 0.6341\n",
      "Epoch 7/10\n",
      "3/3 [==============================] - 0s 104ms/step - loss: 0.6485 - accuracy: 0.7083 - val_loss: 1.0158 - val_accuracy: 0.6829\n",
      "Epoch 8/10\n",
      "3/3 [==============================] - 0s 83ms/step - loss: 0.7272 - accuracy: 0.6292 - val_loss: 1.0135 - val_accuracy: 0.6341\n",
      "Epoch 9/10\n",
      "3/3 [==============================] - 0s 93ms/step - loss: 0.7517 - accuracy: 0.7083 - val_loss: 1.0115 - val_accuracy: 0.6585\n",
      "Epoch 10/10\n",
      "3/3 [==============================] - 0s 98ms/step - loss: 0.6072 - accuracy: 0.7079 - val_loss: 1.0107 - val_accuracy: 0.6585\n",
      "Training took 0.062497862180074054 minutes\n",
      "Saving the last model. These are not the best weights, they are the last ones. For the best weights use the callback output (bestweights.hdf5)]\n"
     ]
    }
   ],
   "source": [
    "# Load the weights\n",
    "sim.params.load_weights=sim.params.outpath+'/bestweights.hdf5'\n",
    "sim.Train()"
   ]
  },
  {
   "cell_type": "code",
   "execution_count": 16,
   "metadata": {},
   "outputs": [
    {
     "name": "stdout",
     "output_type": "stream",
     "text": [
      "Initial training loss: 0.6626426584265205\n",
      "Best    training loss: 0.6060905610577444\n"
     ]
    }
   ],
   "source": [
    "print('Initial training loss:', InitLoss(sim.history.history))\n",
    "print('Best    training loss:', BestLoss(sim.history.history))\n"
   ]
  },
  {
   "cell_type": "markdown",
   "metadata": {},
   "source": [
    "## (b) Loading full model from disk (CHECKPOINTING)\n",
    "This is essentially what we do when checkpointing. At the end of each run, the entire model is saved (the default name is `'keras_model.h5'`). If we want to restart from there, we just need to load that model.\n",
    "\n",
    "Since in this case we are checkpointing, we also show how to handle the simulation times.\n",
    "Since when checkpointing one usually is starting a simulation from scratch, we will **define a new Ctrain class that loads all the parameters**.\n"
   ]
  },
  {
   "cell_type": "code",
   "execution_count": 17,
   "metadata": {},
   "outputs": [],
   "source": [
    "# Load model, classes and parameters from the end of the previous run\n",
    "model_from_previous  = sim.params.outpath+'/'+sim.params.saveModelName\n",
    "params_from_previous = np.load(sim.params.outpath+'/params.npy', allow_pickle=True).item()\n",
    "classes_from_previous = np.load(sim.params.outpath+'/classes.npy')"
   ]
  },
  {
   "cell_type": "code",
   "execution_count": 18,
   "metadata": {},
   "outputs": [
    {
     "name": "stdout",
     "output_type": "stream",
     "text": [
      "No model was specified by the user, so we analyze images with conv2\n",
      "kind: image\n",
      "datapaths: ['./data/1_zooplankton_0p5x/training/zooplankton_trainingset_2020.04.28/', './data/1_zooplankton_0p5x/training/zooplankton_trainingset_2020.07.06/']\n",
      "classes from datapaths: ['diaphanosoma', 'synchaeta', 'keratella_cochlearis', 'paradileptus', 'rotifers', 'nauplius', 'asplanchna', 'hydra', 'daphnia_skins', 'dirt', 'leptodora', 'unknown_plankton', 'trichocerca', 'polyarthra', 'diatom_chain', 'maybe_cyano', 'copepod_skins', 'bosmina', 'fish', 'cyclops', 'asterionella', 'chaoborus', 'daphnia', 'eudiaptomus', 'uroglena', 'keratella_quadrata', 'fragilaria', 'ceratium', 'dinobryon', 'filament', 'kellikottia', 'unknown', 'aphanizomenon', 'conochilus']\n",
      "class: chaoborus (10)\n",
      "class: bosmina (81)\n",
      "class: unknown_plankton (71)\n"
     ]
    }
   ],
   "source": [
    "# Create a new class, just as if we were starting a new simulation that loaded a previous checkpoint\n",
    "sim2=t.Ctrain()\n",
    "sim2.params = params_from_previous\n",
    "sim2.CreateOutDir()\n",
    "sim2.LoadData(L=sim.params.L, class_select=sim.params.class_select, datakind=sim.params.datakind) # Should make a deep copy from sim\n",
    "sim2.CreateTrainTestSets(ttkind=sim.params.ttkind)"
   ]
  },
  {
   "cell_type": "markdown",
   "metadata": {},
   "source": [
    "**Load model without training it, and make a classification report**. You can see that the model is loaded correctly, since it gives better than random predictions."
   ]
  },
  {
   "cell_type": "code",
   "execution_count": 19,
   "metadata": {},
   "outputs": [
    {
     "name": "stdout",
     "output_type": "stream",
     "text": [
      "modelkind: image\n",
      "WARNING: At the current state, we are taking the default weight initialization, whatever it is. This must change in order to have better control.\n",
      "Training took 0.0014480988184611002 minutes\n",
      "Saving the last model. These are not the best weights, they are the last ones. For the best weights use the callback output (bestweights.hdf5)]\n",
      "                  precision    recall  f1-score   support\n",
      "\n",
      "         bosmina       0.82      0.36      0.50        25\n",
      "       chaoborus       0.00      0.00      0.00         2\n",
      "unknown_plankton       0.40      0.71      0.51        14\n",
      "\n",
      "        accuracy                           0.46        41\n",
      "       macro avg       0.41      0.36      0.34        41\n",
      "    weighted avg       0.64      0.46      0.48        41\n",
      "\n"
     ]
    }
   ],
   "source": [
    "sim2.Train(train=False) #This only loads the model\n",
    "sim2.Report()"
   ]
  },
  {
   "cell_type": "markdown",
   "metadata": {},
   "source": [
    "Now let's prolongate the run for some more steps.\n",
    "Since we are prolongating a run, we also want to make sure that the timesteps are consistent"
   ]
  },
  {
   "cell_type": "code",
   "execution_count": 20,
   "metadata": {},
   "outputs": [],
   "source": [
    "# Set initial epoch to the end of the previous run, and extend the total number of epochs (otherwise it won't run)\n",
    "n_epochs_new = 20\n",
    "\n",
    "sim2.params.initial_epoch=sim.history.epoch[-1]+1 if len(sim.history.epoch)>0 else 0\n",
    "sim2.params.totEpochs=sim2.params.initial_epoch + n_epochs_new\n",
    "\n",
    "# We do not want the Train() method to load weights from somewhere, \n",
    "# so we make sure that load_weights is set to None\n",
    "# If we wanted to load the weights from somewhere, \n",
    "# it would be enough to give it the right file name (usually, 'bestweights.hdf5')\n",
    "sim2.UpdateParams(load_weights = None)"
   ]
  },
  {
   "cell_type": "code",
   "execution_count": 21,
   "metadata": {},
   "outputs": [
    {
     "name": "stdout",
     "output_type": "stream",
     "text": [
      "Epochs before running: [0, 1, 2, 3, 4, 5, 6, 7, 8, 9]\n",
      "modelkind: image\n",
      "WARNING: At the current state, we are taking the default weight initialization, whatever it is. This must change in order to have better control.\n",
      "Epoch 11/30\n",
      "3/3 [==============================] - 0s 141ms/step - loss: 1.1652 - accuracy: 0.3820 - val_loss: 1.0905 - val_accuracy: 0.5122\n",
      "Epoch 12/30\n",
      "3/3 [==============================] - 0s 89ms/step - loss: 0.9433 - accuracy: 0.5393 - val_loss: 1.0811 - val_accuracy: 0.6585\n",
      "Epoch 13/30\n",
      "3/3 [==============================] - 0s 105ms/step - loss: 0.8141 - accuracy: 0.6458 - val_loss: 1.0755 - val_accuracy: 0.6829\n",
      "Epoch 14/30\n",
      "3/3 [==============================] - 0s 89ms/step - loss: 0.9037 - accuracy: 0.5843 - val_loss: 1.0706 - val_accuracy: 0.6829\n",
      "Epoch 15/30\n",
      "3/3 [==============================] - 0s 86ms/step - loss: 0.8458 - accuracy: 0.6067 - val_loss: 1.0665 - val_accuracy: 0.7073\n",
      "Epoch 16/30\n",
      "3/3 [==============================] - 0s 93ms/step - loss: 0.7851 - accuracy: 0.6458 - val_loss: 1.0627 - val_accuracy: 0.7073\n",
      "Epoch 17/30\n",
      "3/3 [==============================] - 0s 101ms/step - loss: 0.7515 - accuracy: 0.6951 - val_loss: 1.0599 - val_accuracy: 0.7073\n",
      "Epoch 18/30\n",
      "3/3 [==============================] - 0s 87ms/step - loss: 0.7656 - accuracy: 0.6042 - val_loss: 1.0572 - val_accuracy: 0.7073\n",
      "Epoch 19/30\n",
      "3/3 [==============================] - 0s 90ms/step - loss: 0.6986 - accuracy: 0.6875 - val_loss: 1.0551 - val_accuracy: 0.7073\n",
      "Epoch 20/30\n",
      "3/3 [==============================] - 0s 87ms/step - loss: 0.7694 - accuracy: 0.6220 - val_loss: 1.0521 - val_accuracy: 0.7073\n",
      "Epoch 21/30\n",
      "3/3 [==============================] - 0s 110ms/step - loss: 0.7039 - accuracy: 0.7083 - val_loss: 1.0507 - val_accuracy: 0.6585\n",
      "Epoch 22/30\n",
      "3/3 [==============================] - 0s 87ms/step - loss: 0.7493 - accuracy: 0.6629 - val_loss: 1.0476 - val_accuracy: 0.6829\n",
      "Epoch 23/30\n",
      "3/3 [==============================] - 0s 86ms/step - loss: 0.6798 - accuracy: 0.6966 - val_loss: 1.0452 - val_accuracy: 0.6829\n",
      "Epoch 24/30\n",
      "3/3 [==============================] - 0s 98ms/step - loss: 0.6702 - accuracy: 0.6854 - val_loss: 1.0422 - val_accuracy: 0.6829\n",
      "Epoch 25/30\n",
      "3/3 [==============================] - 0s 94ms/step - loss: 0.7494 - accuracy: 0.6292 - val_loss: 1.0427 - val_accuracy: 0.6585\n",
      "Epoch 26/30\n",
      "3/3 [==============================] - 0s 88ms/step - loss: 0.6898 - accuracy: 0.6771 - val_loss: 1.0402 - val_accuracy: 0.6585\n",
      "Epoch 27/30\n",
      "3/3 [==============================] - 0s 89ms/step - loss: 0.6797 - accuracy: 0.7079 - val_loss: 1.0383 - val_accuracy: 0.6585\n",
      "Epoch 28/30\n",
      "3/3 [==============================] - 0s 101ms/step - loss: 0.7104 - accuracy: 0.5833 - val_loss: 1.0365 - val_accuracy: 0.6829\n",
      "Epoch 29/30\n",
      "3/3 [==============================] - 0s 102ms/step - loss: 0.6900 - accuracy: 0.6854 - val_loss: 1.0338 - val_accuracy: 0.6829\n",
      "Epoch 30/30\n",
      "3/3 [==============================] - 0s 87ms/step - loss: 0.6622 - accuracy: 0.7303 - val_loss: 1.0324 - val_accuracy: 0.6829\n",
      "Training took 0.11245822111765544 minutes\n",
      "Saving the last model. These are not the best weights, they are the last ones. For the best weights use the callback output (bestweights.hdf5)]\n",
      "Epochs after running: [10, 11, 12, 13, 14, 15, 16, 17, 18, 19, 20, 21, 22, 23, 24, 25, 26, 27, 28, 29]\n"
     ]
    }
   ],
   "source": [
    "print('Epochs before running:', sim.history.epoch)\n",
    "sim2.Train()\n",
    "print('Epochs after running:', sim2.history.epoch)\n"
   ]
  },
  {
   "cell_type": "markdown",
   "metadata": {},
   "source": [
    "# Use second model to predict on new, unseen data\n",
    "Choose a class from the ones the classifier can recognize, and see whether the model is able to recognize it when taking unseen images in the validation dataset."
   ]
  },
  {
   "cell_type": "code",
   "execution_count": 22,
   "metadata": {},
   "outputs": [
    {
     "name": "stdout",
     "output_type": "stream",
     "text": [
      "target: bosmina\n",
      "Predictions: ['unknown_plankton' 'bosmina' 'bosmina' 'unknown_plankton' 'bosmina'\n",
      " 'bosmina' 'bosmina' 'bosmina' 'bosmina']\n"
     ]
    }
   ],
   "source": [
    "\n",
    "# We only do this for 'image' models, because the format of the validation directory is wrong and I don't want to cope with that now\n",
    "if ttkind == 'image':\n",
    "    target = sim2.params.class_select[1]\n",
    "    print('target:',target)\n",
    "\n",
    "    testdir = 'data/1_zooplankton_0p5x/validation/tommy_validation/images/'+target\n",
    "    im_names=np.array(glob.glob(testdir+'/*.jpeg'),dtype=object)\n",
    "    npimages=hd.LoadImageList(im_names, L=sim2.params.L, show=False)\n",
    "\n",
    "    probs=sim2.model.predict(npimages)\n",
    "    predictions=probs.argmax(axis=1)  # The class that the classifier would bet on\n",
    "\n",
    "    print('Predictions:',sim2.tt.lb.classes_[predictions])"
   ]
  },
  {
   "cell_type": "code",
   "execution_count": null,
   "metadata": {},
   "outputs": [],
   "source": []
  },
  {
   "cell_type": "code",
   "execution_count": null,
   "metadata": {},
   "outputs": [],
   "source": []
  }
 ],
 "metadata": {
  "kernelspec": {
   "display_name": "Python 3",
   "language": "python",
   "name": "python3"
  },
  "language_info": {
   "codemirror_mode": {
    "name": "ipython",
    "version": 3
   },
   "file_extension": ".py",
   "mimetype": "text/x-python",
   "name": "python",
   "nbconvert_exporter": "python",
   "pygments_lexer": "ipython3",
   "version": "3.7.5"
  }
 },
 "nbformat": 4,
 "nbformat_minor": 2
}
