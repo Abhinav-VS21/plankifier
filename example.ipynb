{
 "cells": [
  {
   "cell_type": "code",
   "execution_count": 1,
   "metadata": {},
   "outputs": [
    {
     "name": "stderr",
     "output_type": "stream",
     "text": [
      "Using TensorFlow backend.\n",
      "/mnt/volume2Tb/Dropbox/PROJECTS/MACHINE-LEARNING/AQUASCOPE/plankifier/src/helper_models.py:244: SyntaxWarning: assertion is always true, perhaps remove parentheses?\n",
      "  assert(self.modelkind!='feat', self.modelkind!='mixed', \"We only augment with image data\")\n",
      "/mnt/volume2Tb/Dropbox/PROJECTS/MACHINE-LEARNING/AQUASCOPE/plankifier/src/helper_models.py:535: SyntaxWarning: assertion is always true, perhaps remove parentheses?\n",
      "  assert(len(input_shape[0]) == 3, \"MixedModel: first dimension should be images, but has shape {}\".format(input_shape[0]))\n",
      "/mnt/volume2Tb/Dropbox/PROJECTS/MACHINE-LEARNING/AQUASCOPE/plankifier/src/helper_models.py:536: SyntaxWarning: assertion is always true, perhaps remove parentheses?\n",
      "  assert(len(input_shape[1]) == 1, \"MixedModel: second dimension should be features, but has shape {}\".format(input_shape[1]))\n"
     ]
    }
   ],
   "source": [
    "import numpy as np, pandas as pd\n",
    "import train as t\n",
    "from src import helper_models as hm, helper_data as hd, helper_tts as htts\n",
    "from importlib import reload\n",
    "import keras, glob\n",
    "\n",
    "\n"
   ]
  },
  {
   "cell_type": "code",
   "execution_count": 2,
   "metadata": {},
   "outputs": [
    {
     "data": {
      "text/plain": [
       "<module 'src.helper_tts' from '/mnt/volume2Tb/Dropbox/PROJECTS/MACHINE-LEARNING/AQUASCOPE/plankifier/src/helper_tts.py'>"
      ]
     },
     "execution_count": 2,
     "metadata": {},
     "output_type": "execute_result"
    }
   ],
   "source": [
    "# Reload imports of custom modules, in case I am modifying and reloading them live\n",
    "reload(t)\n",
    "reload(hd)\n",
    "reload(hm)\n",
    "reload(htts)\n"
   ]
  },
  {
   "cell_type": "markdown",
   "metadata": {},
   "source": [
    "# Initialize simulation"
   ]
  },
  {
   "cell_type": "code",
   "execution_count": 3,
   "metadata": {},
   "outputs": [],
   "source": [
    "sim=t.Ctrain()"
   ]
  },
  {
   "cell_type": "markdown",
   "metadata": {},
   "source": [
    "# Init parameters\n",
    "Parameters must always be updated through the `UpdateParams()` method"
   ]
  },
  {
   "cell_type": "code",
   "execution_count": 4,
   "metadata": {},
   "outputs": [],
   "source": [
    "def SetModelParams(kind):\n",
    "    ''' \n",
    "    A quick way to set compatible user parameters of data and model kinds\n",
    "    \n",
    "    Input: kind = either 'image', 'feat' or 'mixed'\n",
    "    Output: model_image, model_feat, datakind, ttkind, aug\n",
    "    '''\n",
    "    \n",
    "    if kind == 'image':\n",
    "        return ('conv2', None, 'image', 'image', True)\n",
    "    \n",
    "    elif kind == 'feat':\n",
    "        return (None, 'mlp', 'feat', 'feat', False)\n",
    "    \n",
    "    elif kind == 'mixed':\n",
    "        return ('conv2', 'mlp', 'mixed', 'mixed', False)\n",
    "        "
   ]
  },
  {
   "cell_type": "code",
   "execution_count": 5,
   "metadata": {},
   "outputs": [],
   "source": [
    "model_image, model_feat, datakind, ttkind, aug = SetModelParams('image')\n",
    "\n",
    "sim.UpdateParams(\n",
    "    datapaths=['./data/1_zooplankton_0p5x/training/zooplankton_trainingset_2020.04.28/',\n",
    "               './data/1_zooplankton_0p5x/training/zooplankton_trainingset_2020.07.06/'],\n",
    "    outpath     = 'out_example', \n",
    "    L           = 128, \n",
    "    aug         = aug, \n",
    "    model_feat  = model_feat,\n",
    "    model_image = model_image,\n",
    "    datakind    = datakind, \n",
    "    ttkind      = ttkind,\n",
    "    class_select= ['chaoborus','bosmina','unknown_plankton'] #None\n",
    "    )\n"
   ]
  },
  {
   "cell_type": "markdown",
   "metadata": {},
   "source": [
    "Create output directory only after you've set the right `outpath`"
   ]
  },
  {
   "cell_type": "code",
   "execution_count": 6,
   "metadata": {},
   "outputs": [],
   "source": [
    "sim.CreateOutDir()\n"
   ]
  },
  {
   "cell_type": "code",
   "execution_count": 7,
   "metadata": {},
   "outputs": [
    {
     "name": "stdout",
     "output_type": "stream",
     "text": [
      "['./data/1_zooplankton_0p5x/training/zooplankton_trainingset_2020.04.28/', './data/1_zooplankton_0p5x/training/zooplankton_trainingset_2020.07.06/']\n"
     ]
    }
   ],
   "source": [
    "print(sim.params.datapaths)\n"
   ]
  },
  {
   "cell_type": "markdown",
   "metadata": {},
   "source": [
    "# Load data"
   ]
  },
  {
   "cell_type": "code",
   "execution_count": 8,
   "metadata": {},
   "outputs": [
    {
     "name": "stdout",
     "output_type": "stream",
     "text": [
      "datapaths: ['./data/1_zooplankton_0p5x/training/zooplankton_trainingset_2020.04.28/', './data/1_zooplankton_0p5x/training/zooplankton_trainingset_2020.07.06/']\n",
      "classes from datapaths: ['unknown', 'diatom_chain', 'eudiaptomus', 'bosmina', 'chaoborus', 'hydra', 'dinobryon', 'aphanizomenon', 'cyclops', 'fragilaria', 'diaphanosoma', 'polyarthra', 'rotifers', 'maybe_cyano', 'uroglena', 'kellikottia', 'asplanchna', 'keratella_quadrata', 'leptodora', 'nauplius', 'copepod_skins', 'synchaeta', 'fish', 'daphnia_skins', 'ceratium', 'daphnia', 'trichocerca', 'paradileptus', 'asterionella', 'dirt', 'keratella_cochlearis', 'unknown_plankton', 'conochilus', 'filament']\n",
      "class: chaoborus (10)\n",
      "class: bosmina (80)\n",
      "class: unknown_plankton (71)\n"
     ]
    }
   ],
   "source": [
    "# These arguments are the defaults\n",
    "reload(hd)\n",
    "sim.LoadData(L=sim.params.L, class_select=sim.params.class_select, datakind=sim.params.datakind) \n"
   ]
  },
  {
   "cell_type": "markdown",
   "metadata": {},
   "source": [
    "# Create sets (test and train)"
   ]
  },
  {
   "cell_type": "code",
   "execution_count": 9,
   "metadata": {},
   "outputs": [],
   "source": [
    "sim.UpdateParams(testSplit=0.25)\n",
    "sim.CreateTrainTestSets(ttkind=sim.params.ttkind)\n"
   ]
  },
  {
   "cell_type": "markdown",
   "metadata": {},
   "source": [
    "# Create and Train Model\n",
    "Custom parameter changes are made by acting directly on the params class through the `UpdateParams()` method."
   ]
  },
  {
   "cell_type": "code",
   "execution_count": 10,
   "metadata": {},
   "outputs": [
    {
     "name": "stdout",
     "output_type": "stream",
     "text": [
      "WARNING:tensorflow:From /opt/miniconda3/lib/python3.7/site-packages/tensorflow_core/python/ops/resource_variable_ops.py:1630: calling BaseResourceVariable.__init__ (from tensorflow.python.ops.resource_variable_ops) with constraint is deprecated and will be removed in a future version.\n",
      "Instructions for updating:\n",
      "If using Keras pass *_constraint arguments to layers.\n",
      "WARNING:tensorflow:From /opt/miniconda3/lib/python3.7/site-packages/keras/backend/tensorflow_backend.py:4070: The name tf.nn.max_pool is deprecated. Please use tf.nn.max_pool2d instead.\n",
      "\n",
      "WARNING: At the current state, we are taking the default weight initialization, whatever it is. This must change in order to have better control.\n",
      "WARNING:tensorflow:From /opt/miniconda3/lib/python3.7/site-packages/keras/backend/tensorflow_backend.py:422: The name tf.global_variables is deprecated. Please use tf.compat.v1.global_variables instead.\n",
      "\n",
      "Epoch 1/10\n",
      "3/3 [==============================] - 4s 1s/step - loss: 1.0663 - accuracy: 0.4091 - val_loss: 1.0737 - val_accuracy: 0.6341\n",
      "Epoch 2/10\n",
      "3/3 [==============================] - 1s 167ms/step - loss: 1.0271 - accuracy: 0.5417 - val_loss: 1.0680 - val_accuracy: 0.6098\n",
      "Epoch 3/10\n",
      "3/3 [==============================] - 0s 86ms/step - loss: 0.9143 - accuracy: 0.5500 - val_loss: 1.0633 - val_accuracy: 0.6098\n",
      "Epoch 4/10\n",
      "3/3 [==============================] - 0s 85ms/step - loss: 0.9064 - accuracy: 0.5521 - val_loss: 1.0572 - val_accuracy: 0.6098\n",
      "Epoch 5/10\n",
      "3/3 [==============================] - 0s 95ms/step - loss: 0.7937 - accuracy: 0.6364 - val_loss: 1.0529 - val_accuracy: 0.5854\n",
      "Epoch 6/10\n",
      "3/3 [==============================] - 0s 96ms/step - loss: 0.8932 - accuracy: 0.6136 - val_loss: 1.0500 - val_accuracy: 0.5854\n",
      "Epoch 7/10\n",
      "3/3 [==============================] - 0s 98ms/step - loss: 0.7308 - accuracy: 0.7159 - val_loss: 1.0438 - val_accuracy: 0.6098\n",
      "Epoch 8/10\n",
      "3/3 [==============================] - 0s 84ms/step - loss: 0.8379 - accuracy: 0.5938 - val_loss: 1.0441 - val_accuracy: 0.6098\n",
      "Epoch 9/10\n",
      "3/3 [==============================] - 0s 92ms/step - loss: 0.8484 - accuracy: 0.6477 - val_loss: 1.0428 - val_accuracy: 0.5854\n",
      "Epoch 10/10\n",
      "3/3 [==============================] - 0s 108ms/step - loss: 0.8203 - accuracy: 0.5521 - val_loss: 1.0390 - val_accuracy: 0.5854\n",
      "Training took 0.12304151058197021 minutes\n",
      "Saving the last model. These are not the best weights, they are the last ones. For the best weights use the callback output (bestweights.hdf5)]\n"
     ]
    }
   ],
   "source": [
    "sim.UpdateParams(totEpochs=10)\n",
    "sim.Train()"
   ]
  },
  {
   "cell_type": "markdown",
   "metadata": {},
   "source": [
    "# Classification Report"
   ]
  },
  {
   "cell_type": "code",
   "execution_count": 11,
   "metadata": {},
   "outputs": [
    {
     "name": "stdout",
     "output_type": "stream",
     "text": [
      "                  precision    recall  f1-score   support\n",
      "\n",
      "         bosmina       0.62      0.88      0.72        24\n",
      "       chaoborus       0.00      0.00      0.00         2\n",
      "unknown_plankton       0.43      0.20      0.27        15\n",
      "\n",
      "        accuracy                           0.59        41\n",
      "       macro avg       0.35      0.36      0.33        41\n",
      "    weighted avg       0.52      0.59      0.52        41\n",
      "\n"
     ]
    },
    {
     "name": "stderr",
     "output_type": "stream",
     "text": [
      "/opt/miniconda3/lib/python3.7/site-packages/sklearn/metrics/_classification.py:1268: UndefinedMetricWarning: Precision and F-score are ill-defined and being set to 0.0 in labels with no predicted samples. Use `zero_division` parameter to control this behavior.\n",
      "  _warn_prf(average, modifier, msg_start, len(result))\n"
     ]
    }
   ],
   "source": [
    "sim.Report()"
   ]
  },
  {
   "cell_type": "markdown",
   "metadata": {},
   "source": [
    "We now extract manually the training loss corresponding to the best weights, so that we can make sure that restarting the simulation works"
   ]
  },
  {
   "cell_type": "code",
   "execution_count": 12,
   "metadata": {},
   "outputs": [
    {
     "name": "stdout",
     "output_type": "stream",
     "text": [
      "Initial training loss: 1.0782882083546033\n",
      "Best    training loss: 0.8202984929084778\n"
     ]
    }
   ],
   "source": [
    "def BestLoss(history):\n",
    "    ''' Returns the training loss of the point where the validation loss was minimal'''\n",
    "    return history['loss'][np.argmin(history['val_loss'])]\n",
    "def InitLoss(history):\n",
    "    ''' Returns the training loss of the point where the validation loss was minimal'''\n",
    "    return history['loss'][0]\n",
    "\n",
    "# initLoss = InitLoss(sim.history.history)\n",
    "# bestLoss = BestLoss(sim.history.history)\n",
    "\n",
    "print('Initial training loss:',InitLoss(sim.history.history))\n",
    "print('Best    training loss:',BestLoss(sim.history.history))\n"
   ]
  },
  {
   "cell_type": "markdown",
   "metadata": {},
   "source": [
    "# Start again from scratch\n",
    "If we train again, the simulation does not start again where it ended, but it starts from scratch.\n",
    "Since the default initialization is random, the initial value will be close to that of the previous run, but not the same."
   ]
  },
  {
   "cell_type": "code",
   "execution_count": 13,
   "metadata": {},
   "outputs": [
    {
     "name": "stdout",
     "output_type": "stream",
     "text": [
      "WARNING: At the current state, we are taking the default weight initialization, whatever it is. This must change in order to have better control.\n",
      "Epoch 1/10\n",
      "3/3 [==============================] - 0s 133ms/step - loss: 1.2812 - accuracy: 0.4479 - val_loss: 1.0879 - val_accuracy: 0.5610\n",
      "Epoch 2/10\n",
      "3/3 [==============================] - 0s 92ms/step - loss: 1.0080 - accuracy: 0.4750 - val_loss: 1.0746 - val_accuracy: 0.6341\n",
      "Epoch 3/10\n",
      "3/3 [==============================] - 0s 110ms/step - loss: 0.9044 - accuracy: 0.5938 - val_loss: 1.0678 - val_accuracy: 0.6341\n",
      "Epoch 4/10\n",
      "3/3 [==============================] - 0s 81ms/step - loss: 0.8750 - accuracy: 0.5341 - val_loss: 1.0630 - val_accuracy: 0.6341\n",
      "Epoch 5/10\n",
      "3/3 [==============================] - 0s 88ms/step - loss: 0.8394 - accuracy: 0.5341 - val_loss: 1.0584 - val_accuracy: 0.6098\n",
      "Epoch 6/10\n",
      "3/3 [==============================] - 0s 97ms/step - loss: 0.7964 - accuracy: 0.6136 - val_loss: 1.0561 - val_accuracy: 0.6829\n",
      "Epoch 7/10\n",
      "3/3 [==============================] - 0s 109ms/step - loss: 0.7927 - accuracy: 0.5938 - val_loss: 1.0506 - val_accuracy: 0.6098\n",
      "Epoch 8/10\n",
      "3/3 [==============================] - 0s 83ms/step - loss: 0.7635 - accuracy: 0.6818 - val_loss: 1.0473 - val_accuracy: 0.6098\n",
      "Epoch 9/10\n",
      "3/3 [==============================] - 0s 81ms/step - loss: 0.8196 - accuracy: 0.6477 - val_loss: 1.0463 - val_accuracy: 0.6585\n",
      "Epoch 10/10\n",
      "3/3 [==============================] - 0s 105ms/step - loss: 0.6936 - accuracy: 0.6667 - val_loss: 1.0417 - val_accuracy: 0.6585\n",
      "Training took 0.06003948052724203 minutes\n",
      "Saving the last model. These are not the best weights, they are the last ones. For the best weights use the callback output (bestweights.hdf5)]\n"
     ]
    }
   ],
   "source": [
    "sim.Train()"
   ]
  },
  {
   "cell_type": "code",
   "execution_count": 14,
   "metadata": {},
   "outputs": [
    {
     "name": "stdout",
     "output_type": "stream",
     "text": [
      "Initial training loss: 1.2811651229858398\n",
      "Best    training loss: 0.6935809254646301\n"
     ]
    }
   ],
   "source": [
    "print('Initial training loss:',InitLoss(sim.history.history))\n",
    "print('Best    training loss:',BestLoss(sim.history.history))\n"
   ]
  },
  {
   "cell_type": "markdown",
   "metadata": {},
   "source": [
    "# Start from a previous state\n",
    "We have two ways of not starting from scratch. We can either *(a)* define the full model and load the weight configuration, or *(b)* load the full model. We could also load the full model and then load a different weight configuration *(b+a)*.\n",
    "\n",
    "I also show how to play around with some input parameters.\n",
    "\n"
   ]
  },
  {
   "cell_type": "markdown",
   "metadata": {},
   "source": [
    "## (a) Define model and load weights from disk\n",
    "We don't update the parameters, because we keep the same ones as in the previous runs, for comparison. The only thing we need to do, before calling `sim.Train()`, is to specify the file with the weight configuration through the `load_weights` parameter.\n",
    "\n",
    "We will load the weights that minimized the test loss in the previous run.\n",
    "You will see now that the initial loss is lower value than that of the two previous runs."
   ]
  },
  {
   "cell_type": "code",
   "execution_count": 15,
   "metadata": {},
   "outputs": [
    {
     "name": "stdout",
     "output_type": "stream",
     "text": [
      "Loading weights from  out_example/bestweights.hdf5\n",
      "Epoch 1/10\n",
      "3/3 [==============================] - 0s 127ms/step - loss: 0.7526 - accuracy: 0.6477 - val_loss: 1.0384 - val_accuracy: 0.6585\n",
      "Epoch 2/10\n",
      "3/3 [==============================] - 0s 90ms/step - loss: 0.7022 - accuracy: 0.6818 - val_loss: 1.0341 - val_accuracy: 0.6341\n",
      "Epoch 3/10\n",
      "3/3 [==============================] - 0s 104ms/step - loss: 0.8116 - accuracy: 0.5938 - val_loss: 1.0345 - val_accuracy: 0.6829\n",
      "Epoch 4/10\n",
      "3/3 [==============================] - 0s 82ms/step - loss: 0.6671 - accuracy: 0.6705 - val_loss: 1.0307 - val_accuracy: 0.6829\n",
      "Epoch 5/10\n",
      "3/3 [==============================] - 0s 97ms/step - loss: 0.7390 - accuracy: 0.6562 - val_loss: 1.0290 - val_accuracy: 0.6585\n",
      "Epoch 6/10\n",
      "3/3 [==============================] - 0s 93ms/step - loss: 0.7543 - accuracy: 0.5875 - val_loss: 1.0250 - val_accuracy: 0.6341\n",
      "Epoch 7/10\n",
      "3/3 [==============================] - 0s 103ms/step - loss: 0.7299 - accuracy: 0.6705 - val_loss: 1.0246 - val_accuracy: 0.6585\n",
      "Epoch 8/10\n",
      "3/3 [==============================] - 0s 85ms/step - loss: 0.7558 - accuracy: 0.6667 - val_loss: 1.0236 - val_accuracy: 0.6341\n",
      "Epoch 9/10\n",
      "3/3 [==============================] - 0s 96ms/step - loss: 0.6493 - accuracy: 0.7292 - val_loss: 1.0190 - val_accuracy: 0.6829\n",
      "Epoch 10/10\n",
      "3/3 [==============================] - 0s 95ms/step - loss: 0.7394 - accuracy: 0.6250 - val_loss: 1.0197 - val_accuracy: 0.6098\n",
      "Training took 0.0627468744913737 minutes\n",
      "Saving the last model. These are not the best weights, they are the last ones. For the best weights use the callback output (bestweights.hdf5)]\n"
     ]
    }
   ],
   "source": [
    "# Load the weights\n",
    "sim.params.load_weights=sim.params.outpath+'/bestweights.hdf5'\n",
    "sim.Train()"
   ]
  },
  {
   "cell_type": "code",
   "execution_count": 16,
   "metadata": {},
   "outputs": [
    {
     "name": "stdout",
     "output_type": "stream",
     "text": [
      "Initial training loss: 0.7509663701057434\n",
      "Best    training loss: 0.6492888728777567\n"
     ]
    }
   ],
   "source": [
    "print('Initial training loss:', InitLoss(sim.history.history))\n",
    "print('Best    training loss:', BestLoss(sim.history.history))\n"
   ]
  },
  {
   "cell_type": "markdown",
   "metadata": {},
   "source": [
    "## (b) Loading full model from disk (CHECKPOINTING)\n",
    "This is essentially what we do when checkpointing. At the end of each run, the entire model is saved (the default name is `'keras_model.h5'`). If we want to restart from there, we just need to load that model.\n",
    "\n",
    "Since in this case we are checkpointing, we also show how to handle the simulation times.\n",
    "Since when checkpointing one usually is starting a simulation from scratch, we will **define a new Ctrain class that loads all the parameters**.\n"
   ]
  },
  {
   "cell_type": "code",
   "execution_count": 17,
   "metadata": {},
   "outputs": [],
   "source": [
    "# Load model, classes and parameters from the end of the previous run\n",
    "model_from_previous  = sim.params.outpath+'/'+sim.params.saveModelName\n",
    "params_from_previous = np.load(sim.params.outpath+'/params.npy', allow_pickle=True).item()\n",
    "classes_from_previous = np.load(sim.params.outpath+'/classes.npy')"
   ]
  },
  {
   "cell_type": "code",
   "execution_count": 18,
   "metadata": {},
   "outputs": [
    {
     "name": "stdout",
     "output_type": "stream",
     "text": [
      "datapaths: ['./data/1_zooplankton_0p5x/training/zooplankton_trainingset_2020.04.28/', './data/1_zooplankton_0p5x/training/zooplankton_trainingset_2020.07.06/']\n",
      "classes from datapaths: ['unknown', 'diatom_chain', 'eudiaptomus', 'bosmina', 'chaoborus', 'hydra', 'dinobryon', 'aphanizomenon', 'cyclops', 'fragilaria', 'diaphanosoma', 'polyarthra', 'rotifers', 'maybe_cyano', 'uroglena', 'kellikottia', 'asplanchna', 'keratella_quadrata', 'leptodora', 'nauplius', 'copepod_skins', 'synchaeta', 'fish', 'daphnia_skins', 'ceratium', 'daphnia', 'trichocerca', 'paradileptus', 'asterionella', 'dirt', 'keratella_cochlearis', 'unknown_plankton', 'conochilus', 'filament']\n",
      "class: chaoborus (10)\n",
      "class: bosmina (80)\n",
      "class: unknown_plankton (71)\n"
     ]
    }
   ],
   "source": [
    "# Create a new class, just as if we were starting a new simulation that loaded a previous checkpoint\n",
    "sim2=t.Ctrain()\n",
    "sim2.params = params_from_previous\n",
    "sim2.CreateOutDir()\n",
    "sim2.LoadData(L=sim.params.L, class_select=sim.params.class_select, datakind=sim.params.datakind) # Should make a deep copy from sim\n",
    "sim2.CreateTrainTestSets(ttkind=sim.params.ttkind)"
   ]
  },
  {
   "cell_type": "markdown",
   "metadata": {},
   "source": [
    "**Load model without training it, and make a classification report**. You can see that the model is loaded correctly, since it gives better than random predictions."
   ]
  },
  {
   "cell_type": "code",
   "execution_count": 19,
   "metadata": {},
   "outputs": [
    {
     "name": "stdout",
     "output_type": "stream",
     "text": [
      "                  precision    recall  f1-score   support\n",
      "\n",
      "         bosmina       0.72      0.88      0.79        24\n",
      "       chaoborus       0.00      0.00      0.00         2\n",
      "unknown_plankton       0.58      0.47      0.52        15\n",
      "\n",
      "        accuracy                           0.68        41\n",
      "       macro avg       0.44      0.45      0.44        41\n",
      "    weighted avg       0.64      0.68      0.65        41\n",
      "\n"
     ]
    },
    {
     "name": "stderr",
     "output_type": "stream",
     "text": [
      "/opt/miniconda3/lib/python3.7/site-packages/sklearn/metrics/_classification.py:1268: UndefinedMetricWarning: Precision and F-score are ill-defined and being set to 0.0 in labels with no predicted samples. Use `zero_division` parameter to control this behavior.\n",
      "  _warn_prf(average, modifier, msg_start, len(result))\n"
     ]
    }
   ],
   "source": [
    "sim2.LoadModel(modelfile = model_from_previous, bestweights=sim.params.outpath+'/bestweights.hdf5')\n",
    "sim2.Report()"
   ]
  },
  {
   "cell_type": "markdown",
   "metadata": {},
   "source": [
    "Now let's prolongate the run for some more steps.\n",
    "Since we are prolongating a run, we also want to make sure that the timesteps are consistent"
   ]
  },
  {
   "cell_type": "code",
   "execution_count": 20,
   "metadata": {},
   "outputs": [],
   "source": [
    "# Set initial epoch to the end of the previous run, and extend the total number of epochs (otherwise it won't run)\n",
    "n_epochs_new = 20\n",
    "\n",
    "sim2.params.initial_epoch=sim.history.epoch[-1]+1 if len(sim.history.epoch)>0 else 0\n",
    "sim2.params.totEpochs=sim2.params.initial_epoch + n_epochs_new\n",
    "\n",
    "# We do not want the Train() method to load weights from somewhere, \n",
    "# so we make sure that load_weights is set to None\n",
    "# If we wanted to load the weights from somewhere, \n",
    "# it would be enough to give it the right file name (usually, 'bestweights.hdf5')\n",
    "sim2.UpdateParams(load_weights = None)"
   ]
  },
  {
   "cell_type": "code",
   "execution_count": 21,
   "metadata": {},
   "outputs": [
    {
     "name": "stdout",
     "output_type": "stream",
     "text": [
      "Epochs before running: [0, 1, 2, 3, 4, 5, 6, 7, 8, 9]\n",
      "WARNING: At the current state, we are taking the default weight initialization, whatever it is. This must change in order to have better control.\n",
      "Epoch 11/30\n",
      "3/3 [==============================] - 0s 139ms/step - loss: 0.6898 - accuracy: 0.7045 - val_loss: 1.0154 - val_accuracy: 0.6585\n",
      "Epoch 12/30\n",
      "3/3 [==============================] - 0s 92ms/step - loss: 0.6677 - accuracy: 0.6477 - val_loss: 1.0114 - val_accuracy: 0.6341\n",
      "Epoch 13/30\n",
      "3/3 [==============================] - 0s 104ms/step - loss: 0.6903 - accuracy: 0.6818 - val_loss: 1.0080 - val_accuracy: 0.6829\n",
      "Epoch 14/30\n",
      "3/3 [==============================] - 0s 86ms/step - loss: 0.7190 - accuracy: 0.6771 - val_loss: 1.0080 - val_accuracy: 0.6098\n",
      "Epoch 15/30\n",
      "3/3 [==============================] - 0s 89ms/step - loss: 0.6931 - accuracy: 0.6705 - val_loss: 1.0064 - val_accuracy: 0.6098\n",
      "Epoch 16/30\n",
      "3/3 [==============================] - 0s 95ms/step - loss: 0.6739 - accuracy: 0.6932 - val_loss: 1.0022 - val_accuracy: 0.6829\n",
      "Epoch 17/30\n",
      "3/3 [==============================] - 0s 98ms/step - loss: 0.6424 - accuracy: 0.6932 - val_loss: 1.0009 - val_accuracy: 0.6341\n",
      "Epoch 18/30\n",
      "3/3 [==============================] - 0s 83ms/step - loss: 0.7105 - accuracy: 0.6562 - val_loss: 0.9993 - val_accuracy: 0.6341\n",
      "Epoch 19/30\n",
      "3/3 [==============================] - 0s 94ms/step - loss: 0.6607 - accuracy: 0.6477 - val_loss: 0.9988 - val_accuracy: 0.6341\n",
      "Epoch 20/30\n",
      "3/3 [==============================] - 0s 107ms/step - loss: 0.6667 - accuracy: 0.7083 - val_loss: 0.9971 - val_accuracy: 0.6341\n",
      "Epoch 21/30\n",
      "3/3 [==============================] - 0s 99ms/step - loss: 0.6741 - accuracy: 0.7273 - val_loss: 0.9928 - val_accuracy: 0.6341\n",
      "Epoch 22/30\n",
      "3/3 [==============================] - 0s 85ms/step - loss: 0.7064 - accuracy: 0.6932 - val_loss: 0.9917 - val_accuracy: 0.6341\n",
      "Epoch 23/30\n",
      "3/3 [==============================] - 0s 80ms/step - loss: 0.7189 - accuracy: 0.6136 - val_loss: 0.9902 - val_accuracy: 0.6585\n",
      "Epoch 24/30\n",
      "3/3 [==============================] - 0s 100ms/step - loss: 0.7234 - accuracy: 0.6818 - val_loss: 0.9871 - val_accuracy: 0.6585\n",
      "Epoch 25/30\n",
      "3/3 [==============================] - 0s 96ms/step - loss: 0.6478 - accuracy: 0.7386 - val_loss: 0.9855 - val_accuracy: 0.6341\n",
      "Epoch 26/30\n",
      "3/3 [==============================] - 0s 83ms/step - loss: 0.6564 - accuracy: 0.7083 - val_loss: 0.9849 - val_accuracy: 0.6098\n",
      "Epoch 27/30\n",
      "3/3 [==============================] - 0s 98ms/step - loss: 0.6624 - accuracy: 0.7273 - val_loss: 0.9835 - val_accuracy: 0.6829\n",
      "Epoch 28/30\n",
      "3/3 [==============================] - 0s 100ms/step - loss: 0.6938 - accuracy: 0.6354 - val_loss: 0.9825 - val_accuracy: 0.6098\n",
      "Epoch 29/30\n",
      "3/3 [==============================] - 0s 103ms/step - loss: 0.6419 - accuracy: 0.6932 - val_loss: 0.9799 - val_accuracy: 0.6341\n",
      "Epoch 30/30\n",
      "3/3 [==============================] - 0s 83ms/step - loss: 0.7493 - accuracy: 0.6364 - val_loss: 0.9781 - val_accuracy: 0.6098\n",
      "Training took 0.12414401372273763 minutes\n",
      "Saving the last model. These are not the best weights, they are the last ones. For the best weights use the callback output (bestweights.hdf5)]\n",
      "Epochs after running: [10, 11, 12, 13, 14, 15, 16, 17, 18, 19, 20, 21, 22, 23, 24, 25, 26, 27, 28, 29]\n"
     ]
    }
   ],
   "source": [
    "print('Epochs before running:', sim.history.epoch)\n",
    "sim2.Train()\n",
    "print('Epochs after running:', sim2.history.epoch)\n"
   ]
  },
  {
   "cell_type": "markdown",
   "metadata": {},
   "source": [
    "# Use second model to predict on new, unseen data\n",
    "Choose a class from the ones the classifier can recognize, and see whether the model is able to recognize it when taking unseen images in the validation dataset."
   ]
  },
  {
   "cell_type": "code",
   "execution_count": 22,
   "metadata": {},
   "outputs": [
    {
     "name": "stdout",
     "output_type": "stream",
     "text": [
      "target: bosmina\n",
      "Predictions: ['unknown_plankton' 'bosmina' 'bosmina' 'unknown_plankton' 'bosmina'\n",
      " 'bosmina' 'unknown_plankton' 'bosmina' 'bosmina']\n"
     ]
    }
   ],
   "source": [
    "\n",
    "# We only do this for 'image' models, because the format of the validation directory is wrong and I don't want to cope with that now\n",
    "if ttkind == 'image':\n",
    "    target = sim2.params.class_select[1]\n",
    "    print('target:',target)\n",
    "\n",
    "    testdir = 'data/1_zooplankton_0p5x/validation/tommy_validation/images/'+target\n",
    "    im_names=np.array(glob.glob(testdir+'/*.jpeg'),dtype=object)\n",
    "    npimages=hd.LoadImageList(im_names, L=sim2.params.L, show=False)\n",
    "\n",
    "    probs=sim2.model.predict(npimages)\n",
    "    predictions=probs.argmax(axis=1)  # The class that the classifier would bet on\n",
    "\n",
    "    print('Predictions:',sim2.tt.lb.classes_[predictions])"
   ]
  }
 ],
 "metadata": {
  "kernelspec": {
   "display_name": "Python 3",
   "language": "python",
   "name": "python3"
  },
  "language_info": {
   "codemirror_mode": {
    "name": "ipython",
    "version": 3
   },
   "file_extension": ".py",
   "mimetype": "text/x-python",
   "name": "python",
   "nbconvert_exporter": "python",
   "pygments_lexer": "ipython3",
   "version": "3.7.5"
  }
 },
 "nbformat": 4,
 "nbformat_minor": 2
}
