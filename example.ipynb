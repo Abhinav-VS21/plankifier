{
 "cells": [
  {
   "cell_type": "code",
   "execution_count": 3,
   "metadata": {},
   "outputs": [
    {
     "name": "stderr",
     "output_type": "stream",
     "text": [
      "Using TensorFlow backend.\n",
      "/home/marco/.conda/envs/gpu/lib/python3.7/site-packages/tensorflow/python/framework/dtypes.py:516: FutureWarning: Passing (type, 1) or '1type' as a synonym of type is deprecated; in a future version of numpy, it will be understood as (type, (1,)) / '(1,)type'.\n",
      "  _np_qint8 = np.dtype([(\"qint8\", np.int8, 1)])\n",
      "/home/marco/.conda/envs/gpu/lib/python3.7/site-packages/tensorflow/python/framework/dtypes.py:517: FutureWarning: Passing (type, 1) or '1type' as a synonym of type is deprecated; in a future version of numpy, it will be understood as (type, (1,)) / '(1,)type'.\n",
      "  _np_quint8 = np.dtype([(\"quint8\", np.uint8, 1)])\n",
      "/home/marco/.conda/envs/gpu/lib/python3.7/site-packages/tensorflow/python/framework/dtypes.py:518: FutureWarning: Passing (type, 1) or '1type' as a synonym of type is deprecated; in a future version of numpy, it will be understood as (type, (1,)) / '(1,)type'.\n",
      "  _np_qint16 = np.dtype([(\"qint16\", np.int16, 1)])\n",
      "/home/marco/.conda/envs/gpu/lib/python3.7/site-packages/tensorflow/python/framework/dtypes.py:519: FutureWarning: Passing (type, 1) or '1type' as a synonym of type is deprecated; in a future version of numpy, it will be understood as (type, (1,)) / '(1,)type'.\n",
      "  _np_quint16 = np.dtype([(\"quint16\", np.uint16, 1)])\n",
      "/home/marco/.conda/envs/gpu/lib/python3.7/site-packages/tensorflow/python/framework/dtypes.py:520: FutureWarning: Passing (type, 1) or '1type' as a synonym of type is deprecated; in a future version of numpy, it will be understood as (type, (1,)) / '(1,)type'.\n",
      "  _np_qint32 = np.dtype([(\"qint32\", np.int32, 1)])\n",
      "/home/marco/.conda/envs/gpu/lib/python3.7/site-packages/tensorflow/python/framework/dtypes.py:525: FutureWarning: Passing (type, 1) or '1type' as a synonym of type is deprecated; in a future version of numpy, it will be understood as (type, (1,)) / '(1,)type'.\n",
      "  np_resource = np.dtype([(\"resource\", np.ubyte, 1)])\n",
      "/home/marco/.conda/envs/gpu/lib/python3.7/site-packages/tensorboard/compat/tensorflow_stub/dtypes.py:541: FutureWarning: Passing (type, 1) or '1type' as a synonym of type is deprecated; in a future version of numpy, it will be understood as (type, (1,)) / '(1,)type'.\n",
      "  _np_qint8 = np.dtype([(\"qint8\", np.int8, 1)])\n",
      "/home/marco/.conda/envs/gpu/lib/python3.7/site-packages/tensorboard/compat/tensorflow_stub/dtypes.py:542: FutureWarning: Passing (type, 1) or '1type' as a synonym of type is deprecated; in a future version of numpy, it will be understood as (type, (1,)) / '(1,)type'.\n",
      "  _np_quint8 = np.dtype([(\"quint8\", np.uint8, 1)])\n",
      "/home/marco/.conda/envs/gpu/lib/python3.7/site-packages/tensorboard/compat/tensorflow_stub/dtypes.py:543: FutureWarning: Passing (type, 1) or '1type' as a synonym of type is deprecated; in a future version of numpy, it will be understood as (type, (1,)) / '(1,)type'.\n",
      "  _np_qint16 = np.dtype([(\"qint16\", np.int16, 1)])\n",
      "/home/marco/.conda/envs/gpu/lib/python3.7/site-packages/tensorboard/compat/tensorflow_stub/dtypes.py:544: FutureWarning: Passing (type, 1) or '1type' as a synonym of type is deprecated; in a future version of numpy, it will be understood as (type, (1,)) / '(1,)type'.\n",
      "  _np_quint16 = np.dtype([(\"quint16\", np.uint16, 1)])\n",
      "/home/marco/.conda/envs/gpu/lib/python3.7/site-packages/tensorboard/compat/tensorflow_stub/dtypes.py:545: FutureWarning: Passing (type, 1) or '1type' as a synonym of type is deprecated; in a future version of numpy, it will be understood as (type, (1,)) / '(1,)type'.\n",
      "  _np_qint32 = np.dtype([(\"qint32\", np.int32, 1)])\n",
      "/home/marco/.conda/envs/gpu/lib/python3.7/site-packages/tensorboard/compat/tensorflow_stub/dtypes.py:550: FutureWarning: Passing (type, 1) or '1type' as a synonym of type is deprecated; in a future version of numpy, it will be understood as (type, (1,)) / '(1,)type'.\n",
      "  np_resource = np.dtype([(\"resource\", np.ubyte, 1)])\n"
     ]
    },
    {
     "name": "stdout",
     "output_type": "stream",
     "text": [
      "\n",
      "Running /home/marco/.conda/envs/gpu/lib/python3.7/site-packages/ipykernel_launcher.py ['-f', '/home/marco/.local/share/jupyter/runtime/kernel-1b298ee7-430d-485a-a698-9aed95a9ad03.json']\n"
     ]
    }
   ],
   "source": [
    "import numpy as np, pandas as pd\n",
    "import train as t\n",
    "from src import helper_models as hm, helper_data as hd, helper_tts as htts\n",
    "from importlib import reload\n",
    "import keras\n",
    "\n",
    "\n"
   ]
  },
  {
   "cell_type": "code",
   "execution_count": 27,
   "metadata": {},
   "outputs": [
    {
     "name": "stdout",
     "output_type": "stream",
     "text": [
      "\n",
      "Running /home/marco/.conda/envs/gpu/lib/python3.7/site-packages/ipykernel_launcher.py ['-f', '/home/marco/.local/share/jupyter/runtime/kernel-1b298ee7-430d-485a-a698-9aed95a9ad03.json']\n"
     ]
    },
    {
     "data": {
      "text/plain": [
       "<module 'src.helper_tts' from '/home/marco/Dropbox/PROJECTS/MACHINE-LEARNING/AQUASCOPE/plankifier/src/helper_tts.py'>"
      ]
     },
     "execution_count": 27,
     "metadata": {},
     "output_type": "execute_result"
    }
   ],
   "source": [
    "# Reload imports of custom modules, in case I am modifying and reloading them live\n",
    "reload(t)\n",
    "reload(hd)\n",
    "reload(hm)\n",
    "reload(htts)\n"
   ]
  },
  {
   "cell_type": "markdown",
   "metadata": {},
   "source": [
    "# Initialize simulation"
   ]
  },
  {
   "cell_type": "code",
   "execution_count": 28,
   "metadata": {},
   "outputs": [
    {
     "name": "stdout",
     "output_type": "stream",
     "text": [
      "default\n",
      "Namespace(L=128, aug=False, bs=32, class_select=None, datakind='mixed', datapath='./data/1_zooplankton_0p5x/training/zooplankton_trainingset_2020.04.28//', initial_epoch=0, layers=[256, 128], lr=5e-05, model='mlp', opt='sgd', outpath='./out//', plot=False, testSplit=0.2, totEpochs=5, ttkind='mixed', verbose=False)\n"
     ]
    }
   ],
   "source": [
    "sim=t.Ctrain()"
   ]
  },
  {
   "cell_type": "markdown",
   "metadata": {},
   "source": [
    "# Init parameters"
   ]
  },
  {
   "cell_type": "code",
   "execution_count": 29,
   "metadata": {},
   "outputs": [
    {
     "name": "stdout",
     "output_type": "stream",
     "text": [
      "Namespace(L=128, aug=False, bs=32, class_select=None, datakind='mixed', datapath='./data/1_zooplankton_0p5x/training/zooplankton_trainingset_2020.04.28//', initial_epoch=0, layers=[256, 128], lr=5e-05, model='mlp', opt='sgd', outpath='./out//', plot=False, testSplit=0.2, totEpochs=5, ttkind='mixed', verbose=False)\n",
      "\n",
      "Default selection of classes (None is all classes): None\n"
     ]
    }
   ],
   "source": [
    "# parameters are set upon class init. Here we set them again as an example\n",
    "\n",
    "sim.SetParameters('default') \n",
    "\n",
    "# The following is to show that parameters get automatically updated (see next cell)\n",
    "print(\"\\nDefault selection of classes (None is all classes):\",sim.params.class_select)"
   ]
  },
  {
   "cell_type": "markdown",
   "metadata": {},
   "source": [
    "# Load data"
   ]
  },
  {
   "cell_type": "code",
   "execution_count": 30,
   "metadata": {},
   "outputs": [
    {
     "name": "stdout",
     "output_type": "stream",
     "text": [
      "chaoborus\n",
      "bosmina\n",
      "unknown_plankton\n",
      "\n",
      "Default selection of classes (None is all classes): ['chaoborus', 'bosmina', 'unknown_plankton']\n"
     ]
    }
   ],
   "source": [
    "datakind='mixed'\n",
    "smaller_class_select=['chaoborus','bosmina','unknown_plankton']\n",
    "sim.LoadData(L=32, class_select=smaller_class_select, datakind=datakind)\n",
    "\n",
    "# The class_select got updated, along with L and datakind\n",
    "print(\"\\nDefault selection of classes (None is all classes):\",sim.params.class_select)"
   ]
  },
  {
   "cell_type": "markdown",
   "metadata": {},
   "source": [
    "# Create sets (test and train)"
   ]
  },
  {
   "cell_type": "code",
   "execution_count": 31,
   "metadata": {},
   "outputs": [],
   "source": [
    "# sim.CreateTrainTestSets()\n",
    "ttkind='feat'\n",
    "tt=htts.CTrainTestSet(sim.data.X, sim.data.y, ttkind=ttkind)\n"
   ]
  },
  {
   "cell_type": "code",
   "execution_count": null,
   "metadata": {},
   "outputs": [],
   "source": []
  },
  {
   "cell_type": "markdown",
   "metadata": {},
   "source": [
    "# Create and Train Model"
   ]
  },
  {
   "cell_type": "code",
   "execution_count": 32,
   "metadata": {},
   "outputs": [
    {
     "name": "stdout",
     "output_type": "stream",
     "text": [
      "Train on 80 samples, validate on 20 samples\n",
      "Epoch 1/5\n",
      "80/80 [==============================] - 0s 1ms/step - loss: 1.2386 - accuracy: 0.0375 - val_loss: 1.2040 - val_accuracy: 0.0500\n",
      "Epoch 2/5\n",
      "80/80 [==============================] - 0s 75us/step - loss: 1.2373 - accuracy: 0.0375 - val_loss: 1.2028 - val_accuracy: 0.0500\n",
      "Epoch 3/5\n",
      "80/80 [==============================] - 0s 99us/step - loss: 1.2360 - accuracy: 0.0375 - val_loss: 1.2015 - val_accuracy: 0.0500\n",
      "Epoch 4/5\n",
      "80/80 [==============================] - 0s 112us/step - loss: 1.2347 - accuracy: 0.0375 - val_loss: 1.2003 - val_accuracy: 0.0500\n",
      "Epoch 5/5\n",
      "80/80 [==============================] - 0s 130us/step - loss: 1.2333 - accuracy: 0.0375 - val_loss: 1.1991 - val_accuracy: 0.0500\n"
     ]
    }
   ],
   "source": [
    "checkpointer    = keras.callbacks.ModelCheckpoint(filepath=sim.params.outpath+'/bestweights.hdf5', monitor='val_loss', verbose=0, save_best_only=True) # save the model at every epoch in which there is an improvement in test accuracy\n",
    "coitointerrotto = keras.callbacks.callbacks.EarlyStopping(monitor='val_loss', patience=100, restore_best_weights=True)\n",
    "logger          = keras.callbacks.callbacks.CSVLogger(sim.params.outpath+'epochs.log', separator=' ', append=False)\n",
    "\n",
    "trainParams=hm.CreateParams(\n",
    "                            layers=sim.params.layers, \n",
    "                            lr=sim.params.lr,\n",
    "                            bs=sim.params.bs,\n",
    "                            totEpochs=sim.params.totEpochs,\n",
    "                            callbacks= [checkpointer, logger, coitointerrotto]\n",
    "                            )\n",
    "\n",
    "\n",
    "if ttkind=='mixed':\n",
    "    history, model = hm.MixedModel([tt.trainXimage, tt.trainXfeat], tt.trainY, [tt.testXimage, tt.testXfeat], tt.testY, trainParams)\n",
    "else:\n",
    "    history, model = hm.MLP(tt.trainX, tt.trainY, tt.testX, tt.testY, trainParams)\n"
   ]
  },
  {
   "cell_type": "markdown",
   "metadata": {},
   "source": [
    "# Classification Report"
   ]
  },
  {
   "cell_type": "code",
   "execution_count": null,
   "metadata": {},
   "outputs": [],
   "source": [
    "from sklearn.metrics import classification_report\n",
    "\n",
    "if ttkind == 'mixed':\n",
    "    predictions = model.predict([tt.testXimage,tt.testXfeat], batch_size=trainParams['bs'])\n",
    "else:\n",
    "    predictions = model.predict(tt.testX, batch_size=trainParams['bs'])\n",
    "        \n",
    "\n",
    "clrep = classification_report(tt.testY.argmax(axis=1), predictions.argmax(axis=1), target_names=tt.lb.classes_)\n",
    "print(clrep)\n"
   ]
  },
  {
   "cell_type": "code",
   "execution_count": null,
   "metadata": {},
   "outputs": [],
   "source": []
  }
 ],
 "metadata": {
  "kernelspec": {
   "display_name": "Python 3",
   "language": "python",
   "name": "python3"
  },
  "language_info": {
   "codemirror_mode": {
    "name": "ipython",
    "version": 3
   },
   "file_extension": ".py",
   "mimetype": "text/x-python",
   "name": "python",
   "nbconvert_exporter": "python",
   "pygments_lexer": "ipython3",
   "version": "3.7.6"
  }
 },
 "nbformat": 4,
 "nbformat_minor": 2
}
