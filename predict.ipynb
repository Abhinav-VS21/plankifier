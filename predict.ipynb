{
 "cells": [
  {
   "cell_type": "markdown",
   "metadata": {},
   "source": [
    "# Script for predictions \n",
    "\n",
    "Here, we assume that there is a saved model which we want to use for predictions, and use it on a target image."
   ]
  },
  {
   "cell_type": "code",
   "execution_count": 48,
   "metadata": {},
   "outputs": [],
   "source": [
    "# Imports\n",
    "import os, re, pathlib, time, datetime, argparse, numpy as np\n",
    "import matplotlib.pyplot as plt, seaborn as sns\n",
    "from src import helper_models, helper_data\n",
    "from PIL import Image"
   ]
  },
  {
   "cell_type": "code",
   "execution_count": 198,
   "metadata": {},
   "outputs": [],
   "source": [
    "# Paths\n",
    "modelpath='./out/conv2/2020-01-19_22h44m18s/'\n",
    "argsname=modelpath+'args.txt'\n",
    "im_name='./images/SPC-EAWAG-0P5X-1528200107985735-536606102621-000979-002-928-2332-60-48.jpeg'"
   ]
  },
  {
   "cell_type": "code",
   "execution_count": 200,
   "metadata": {},
   "outputs": [
    {
     "name": "stdout",
     "output_type": "stream",
     "text": [
      "Namespace(aug=True, bs=32, datapath='./data/zooplankton_trainingset_15oct/', depth=3, height=128, layers=[256, 128], lr=0.0001, model='conv2', opt='sgd', outpath='./out/', plot=False, resize='keep_proportions', testSplit=0.2, totEpochs=5000, verbose=False, width=128)\n",
      "\n"
     ]
    }
   ],
   "source": [
    "# Read Arguments\n",
    "print(args)\n",
    "layers=[None,None]\n",
    "for s in re.split('[\\,,\\),\\(]',args):\n",
    "    if 'height' in s:\n",
    "        height=np.int64(re.search('(\\d+)',s).group(1))\n",
    "    if 'width' in s:\n",
    "        width=np.int64(re.search('(\\d+)',s).group(1))\n",
    "    if 'depth' in s:\n",
    "        depth=np.int64(re.search('(\\d+)',s).group(1))\n",
    "    if 'model' in s:\n",
    "        model=re.search('=\\'(.+)\\'$',s).group(1)\n",
    "    if 'resize' in s:\n",
    "        resize=re.search('=\\'(.+)\\'$',s).group(1)\n",
    "    if 'layers' in s: #first layer\n",
    "        layers[0]=np.int64(re.search('=\\[(.+)$',s).group(1))\n",
    "    if re.match('^ \\d+',s): #second layer\n",
    "        layers[1]=np.int64(re.match('^ (\\d+)',s).group(1))\n",
    "    if 'datapath' in s:\n",
    "        datapath=re.search('=\\'(.+)\\'$',s).group(1)\n",
    "    if 'outpath' in s:\n",
    "        outpath=re.search('=\\'(.+)\\'$',s).group(1)\n",
    "    \n",
    "classes = [ name for name in os.listdir(datapath) if os.path.isdir(os.path.join(datapath, name)) ]\n"
   ]
  },
  {
   "cell_type": "code",
   "execution_count": 193,
   "metadata": {},
   "outputs": [],
   "source": [
    "from stat import S_ISREG, ST_CTIME, ST_MODE\n",
    "# # Initialize and load model\n",
    "# if model == 'mlp':\n",
    "#     model = helper_models.MultiLayerPerceptron.build(input_size=len(data[0]), classes=len(classes), layers=layers)\n",
    "# elif model == 'conv2':\n",
    "#     model = helper_models.Conv2Layer.build(width=width, height=height, depth=depth, classes=len(classes))\n",
    "# elif model == 'smallvgg':\n",
    "#     model = helper_models.SmallVGGNet.build(width=width, height=height, depth=depth, classes=len(classes) )\n",
    "# else:\n",
    "#     raise NotImplementedError('Not implemented model {}'.format(model))\n",
    "\n",
    "\n",
    "# Choose backup\n",
    "backupdir = outpath+'/'+model+'/'+os.listdir(outpath+'/'+model)[0] # Get the first one. We have no criterion currently.\n",
    "entries = [backupdir+'/'+entry for entry in os.listdir(backupdir)]\n",
    "entries = ((os.stat(path), path) for path in entries)\n",
    "entries = ((stat[ST_CTIME], path) for stat, path in entries if S_ISREG(stat[ST_MODE]))\n",
    "backupfile=sorted(entries)[-1][1]\n",
    "\n",
    "model = keras.models.load_model(backupfile)\n"
   ]
  },
  {
   "cell_type": "code",
   "execution_count": 201,
   "metadata": {},
   "outputs": [],
   "source": [
    "# Load image\n",
    "image = Image.open(im_name)\n",
    "if resize == 'acazzo':\n",
    "    image = image.resize((width,height))\n",
    "else:\n",
    "    # Set image's largest dimension to target size, and fill the rest with black pixels\n",
    "    image,rescaled = helper_data.ResizeWithProportions(image, width) # width and height are assumed to be the same (assertion at the beginning)\n",
    "npimage=np.array(image.copy())\n",
    "if model == 'mlp':\n",
    "    npimage = npimage.flatten()\n",
    "image.show()\n",
    "image.close()\n",
    "    \n"
   ]
  },
  {
   "cell_type": "code",
   "execution_count": null,
   "metadata": {},
   "outputs": [],
   "source": [
    "# Print prediction\n",
    "print('Class: ',model.predict(image))"
   ]
  }
 ],
 "metadata": {
  "kernelspec": {
   "display_name": "Python 3",
   "language": "python",
   "name": "python3"
  },
  "language_info": {
   "codemirror_mode": {
    "name": "ipython",
    "version": 3
   },
   "file_extension": ".py",
   "mimetype": "text/x-python",
   "name": "python",
   "nbconvert_exporter": "python",
   "pygments_lexer": "ipython3",
   "version": "3.7.5"
  }
 },
 "nbformat": 4,
 "nbformat_minor": 2
}
