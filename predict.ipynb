{
 "cells": [
  {
   "cell_type": "markdown",
   "metadata": {},
   "source": [
    "# Script for predictions \n",
    "\n",
    "Here, we assume that there is a saved model which we want to use for predictions, and use it on a target image."
   ]
  },
  {
   "cell_type": "code",
   "execution_count": 1,
   "metadata": {},
   "outputs": [
    {
     "name": "stderr",
     "output_type": "stream",
     "text": [
      "Using TensorFlow backend.\n"
     ]
    },
    {
     "data": {
      "text/plain": [
       "<module 'src.helper_tts' from '/mnt/volume2Tb/Dropbox/PROJECTS/MACHINE-LEARNING/AQUASCOPE/plankifier/src/helper_tts.py'>"
      ]
     },
     "execution_count": 1,
     "metadata": {},
     "output_type": "execute_result"
    }
   ],
   "source": [
    "# Imports\n",
    "import numpy as np, pandas as pd, glob\n",
    "import train as t\n",
    "from src import helper_models as hm, helper_data as hd, helper_tts as htts\n",
    "from importlib import reload\n",
    "import keras\n",
    "\n",
    "reload(t)\n",
    "reload(hd)\n",
    "reload(hm)\n",
    "reload(htts)"
   ]
  },
  {
   "cell_type": "code",
   "execution_count": 2,
   "metadata": {
    "scrolled": true
   },
   "outputs": [
    {
     "name": "stdout",
     "output_type": "stream",
     "text": [
      "WARNING:tensorflow:From /opt/miniconda3/lib/python3.7/site-packages/tensorflow_core/python/ops/resource_variable_ops.py:1630: calling BaseResourceVariable.__init__ (from tensorflow.python.ops.resource_variable_ops) with constraint is deprecated and will be removed in a future version.\n",
      "Instructions for updating:\n",
      "If using Keras pass *_constraint arguments to layers.\n",
      "WARNING:tensorflow:From /opt/miniconda3/lib/python3.7/site-packages/keras/backend/tensorflow_backend.py:4070: The name tf.nn.max_pool is deprecated. Please use tf.nn.max_pool2d instead.\n",
      "\n",
      "WARNING:tensorflow:From /opt/miniconda3/lib/python3.7/site-packages/keras/backend/tensorflow_backend.py:422: The name tf.global_variables is deprecated. Please use tf.compat.v1.global_variables instead.\n",
      "\n"
     ]
    }
   ],
   "source": [
    "datakind='image'\n",
    "modelpath='./trained-models/conv2/'\n",
    "modelname='keras_model.h5'\n",
    "bestweights='bestweights.hdf5'\n",
    "testdirs=['./data/1_zooplankton_0p5x/validation/tommy_validation/images/uroglena',\n",
    "          './data/1_zooplankton_0p5x/validation/tommy_validation/images/cyclops']\n",
    "\n",
    "\n",
    "# Load parameters, classes and model\n",
    "params  = np.load(modelpath+'/params.npy' , allow_pickle=True).item()\n",
    "classes = np.load(modelpath+'/classes.npy')\n",
    "model=keras.models.load_model(modelpath+modelname)"
   ]
  },
  {
   "cell_type": "code",
   "execution_count": 3,
   "metadata": {},
   "outputs": [],
   "source": [
    "# Load images\n",
    "all_names  = []\n",
    "for td in testdirs:\n",
    "    im_names_here = np.array(glob.glob(td+'/*.jpeg'),dtype=object) \n",
    "    all_names.extend(im_names_here)\n",
    "npimages=hd.LoadImageList(all_names, params.L, show=False)\n"
   ]
  },
  {
   "cell_type": "code",
   "execution_count": 4,
   "metadata": {},
   "outputs": [
    {
     "name": "stdout",
     "output_type": "stream",
     "text": [
      "['uroglena' 'uroglena' 'uroglena' 'uroglena' 'uroglena' 'uroglena'\n",
      " 'uroglena' 'uroglena' 'uroglena' 'uroglena' 'uroglena' 'uroglena'\n",
      " 'uroglena' 'uroglena' 'asplanchna' 'cyclops' 'cyclops' 'cyclops'\n",
      " 'cyclops' 'daphnia' 'cyclops' 'daphnia' 'cyclops' 'cyclops' 'cyclops']\n"
     ]
    }
   ],
   "source": [
    "# Make predictions\n",
    "predictions=model.predict(npimages)\n",
    "print(classes[np.argmax(predictions, axis=1)])\n"
   ]
  },
  {
   "cell_type": "markdown",
   "metadata": {},
   "source": [
    "#### Predicting the class of a single loaded image"
   ]
  },
  {
   "cell_type": "code",
   "execution_count": 5,
   "metadata": {},
   "outputs": [
    {
     "name": "stdout",
     "output_type": "stream",
     "text": [
      "['uroglena']\n"
     ]
    }
   ],
   "source": [
    "im_name='./data/1_zooplankton_0p5x/validation/tommy_validation/images/uroglena/SPC-EAWAG-0P5X-1564477218314927-11382571213690-000089-048-1708-1276-56-48.jpeg'\n",
    "npimage = np.array([ hd.LoadImage(im_name, params.L, show=False)[0] ])\n",
    "print(classes[np.argmax(model.predict(npimage), axis=1)])\n"
   ]
  },
  {
   "cell_type": "markdown",
   "metadata": {},
   "source": [
    "# Using `predict.py`\n",
    "Note that `predict.py` can also handle multiple models together and apply some ensembling rule if wanted."
   ]
  },
  {
   "cell_type": "code",
   "execution_count": 6,
   "metadata": {
    "scrolled": true
   },
   "outputs": [
    {
     "name": "stdout",
     "output_type": "stream",
     "text": [
      "\n",
      "Method: unanimity \tAbs-threshold: 0.6\n",
      "data/1_zooplankton_0p5x/validation/tommy_validation/images/dinobryon/SPC-EAWAG-0P5X-1564477215338897-11382568213441-000059-020-3138-1780-60-80.jpeg Unclassified\n",
      "data/1_zooplankton_0p5x/validation/tommy_validation/images/dinobryon/SPC-EAWAG-0P5X-1564477212307917-11382565213191-000029-035-3022-1630-48-56.jpeg dinobryon\n",
      "data/1_zooplankton_0p5x/validation/tommy_validation/images/dinobryon/SPC-EAWAG-0P5X-1572948194003293-6130134216282-001849-072-2584-604-60-104.jpeg dinobryon\n",
      "data/1_zooplankton_0p5x/validation/tommy_validation/images/dinobryon/SPC-EAWAG-0P5X-1564477334328722-11382687223334-001249-070-1132-618-56-72.jpeg dinobryon\n",
      "data/1_zooplankton_0p5x/validation/tommy_validation/images/dinobryon/SPC-EAWAG-0P5X-1564477213365220-11382566213275-000039-046-2912-1336-32-68.jpeg dinobryon\n",
      "data/1_zooplankton_0p5x/validation/tommy_validation/images/dinobryon/SPC-EAWAG-0P5X-1569920602533706-3102589697380-001929-223-158-1388-56-96.jpeg dinobryon\n",
      "data/1_zooplankton_0p5x/validation/tommy_validation/images/dinobryon/SPC-EAWAG-0P5X-1564477216331238-11382569213524-000069-006-1214-2130-68-60.jpeg dinobryon\n",
      "data/1_zooplankton_0p5x/validation/tommy_validation/images/dinobryon/SPC-EAWAG-0P5X-1572948195003960-6130135216365-001859-046-3336-1222-68-88.jpeg dinobryon\n",
      "data/1_zooplankton_0p5x/validation/tommy_validation/images/dinobryon/SPC-EAWAG-0P5X-1572948502029557-6130442241887-004929-035-2188-1482-148-64.jpeg Unclassified\n"
     ]
    }
   ],
   "source": [
    "run predict.py  -modelfullnames './trained-models/conv2/keras_model.h5' \\\n",
    "                -weightnames './trained-models/conv2/bestweights.hdf5' \\\n",
    "                -testdirs 'data/1_zooplankton_0p5x/validation/tommy_validation/images/dinobryon/' \\\n",
    "                -thresholds 0.6 \\\n",
    "                -ensMethods 'unanimity' \\\n",
    "                -predname './out/predictions/predict'\n",
    "\n"
   ]
  },
  {
   "cell_type": "code",
   "execution_count": null,
   "metadata": {},
   "outputs": [],
   "source": []
  }
 ],
 "metadata": {
  "kernelspec": {
   "display_name": "Python 3",
   "language": "python",
   "name": "python3"
  },
  "language_info": {
   "codemirror_mode": {
    "name": "ipython",
    "version": 3
   },
   "file_extension": ".py",
   "mimetype": "text/x-python",
   "name": "python",
   "nbconvert_exporter": "python",
   "pygments_lexer": "ipython3",
   "version": "3.7.5"
  }
 },
 "nbformat": 4,
 "nbformat_minor": 2
}
